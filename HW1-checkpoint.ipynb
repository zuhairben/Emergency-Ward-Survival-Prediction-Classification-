{
 "cells": [
  {
   "cell_type": "code",
   "execution_count": 1,
   "metadata": {
    "slideshow": {
     "slide_type": "notes"
    }
   },
   "outputs": [
    {
     "name": "stdout",
     "output_type": "stream",
     "text": [
      "Hello, World\n",
      "Hi Guys!\n",
      "Bye!\n",
      "Good morning\n"
     ]
    }
   ],
   "source": [
    "# HomeWork No. 1\n",
    "# CSE145: Intro to Computing, Fall 2021, Lecture 2a\n",
    "# Hello World program in Python\n",
    "# printing\n",
    "\n",
    "print (\"Hello, World\")\n",
    "print(\"Hi Guys!\")\n",
    "print(\"Bye!\")\n",
    "print(\"Good morning\")"
   ]
  },
  {
   "cell_type": "code",
   "execution_count": 2,
   "metadata": {},
   "outputs": [
    {
     "name": "stdout",
     "output_type": "stream",
     "text": [
      "2\n",
      "n.... =  2\n",
      "n =  3\n"
     ]
    }
   ],
   "source": [
    "# variables\n",
    "n=2\n",
    "print(n)\n",
    "print(\"n.... = \",n)\n",
    "n=3\n",
    "print(\"n = \",n)"
   ]
  },
  {
   "cell_type": "code",
   "execution_count": 3,
   "metadata": {},
   "outputs": [
    {
     "name": "stdout",
     "output_type": "stream",
     "text": [
      "2\n",
      "n is not equal to 1\n",
      "Done in else loop\n"
     ]
    }
   ],
   "source": [
    "# if conditional statement\n",
    "n=2\n",
    "print(n)\n",
    "\n",
    "if ( n <=  1  ):\n",
    "    print (\"n is equal to 1\")\n",
    "    print (\"Done\")\n",
    "else:\n",
    "    print (\"n is not equal to 1\")\n",
    "    print(\"Done in else loop\")"
   ]
  },
  {
   "cell_type": "code",
   "execution_count": 4,
   "metadata": {},
   "outputs": [
    {
     "name": "stdout",
     "output_type": "stream",
     "text": [
      "i = 1\n",
      "i = 2\n",
      "i = 3\n",
      "i = 4\n",
      "i = 5\n",
      "i = 6\n",
      "i = 7\n",
      "i = 8\n",
      "i = 9\n",
      "i = 10\n"
     ]
    }
   ],
   "source": [
    "# iterations / looping\n",
    "for n in range(1,11):\n",
    "    print (\"i =\", n)"
   ]
  },
  {
   "cell_type": "code",
   "execution_count": 5,
   "metadata": {},
   "outputs": [
    {
     "name": "stdout",
     "output_type": "stream",
     "text": [
      "i= 5\n",
      "i= 4\n",
      "i= 3\n",
      "i= 2\n",
      "i= 1\n"
     ]
    }
   ],
   "source": [
    "x=5\n",
    "y=0\n",
    "z=-1\n",
    "for i in range(x,y,z):\n",
    "    print (\"i=\",i)"
   ]
  },
  {
   "cell_type": "code",
   "execution_count": 6,
   "metadata": {},
   "outputs": [
    {
     "name": "stdout",
     "output_type": "stream",
     "text": [
      "i= 5\n",
      "i= 6\n"
     ]
    }
   ],
   "source": [
    "for i in range(5,7):\n",
    "    print (\"i=\",i)"
   ]
  },
  {
   "cell_type": "code",
   "execution_count": 7,
   "metadata": {},
   "outputs": [
    {
     "name": "stdout",
     "output_type": "stream",
     "text": [
      "i= 7\n",
      "i= 5\n",
      "i= 3\n"
     ]
    }
   ],
   "source": [
    "# There is an error in this code, you need to fix it and run it to show the result:\n",
    "for i in range(7,2,-2):\n",
    "    print (\"i=\",i)"
   ]
  },
  {
   "cell_type": "code",
   "execution_count": null,
   "metadata": {},
   "outputs": [],
   "source": [
    "# Challenge question (optional):\n",
    "# write a code that prints N numbers from the following sequence: \n",
    "# 0, 1, 1, 2, 3, 5, 8, 13, 21, 34, ...\n",
    "# e.g. for N = 12 it will print the following sequence:\n",
    "# 0, 1, 1, 2, 3, 5, 8, 13, 21, 34, 55, 89,\n",
    "# What is this sequence called?"
   ]
  },
  {
   "cell_type": "code",
   "execution_count": null,
   "metadata": {},
   "outputs": [],
   "source": []
  }
 ],
 "metadata": {
  "kernelspec": {
   "display_name": "Python 3",
   "language": "python",
   "name": "python3"
  },
  "language_info": {
   "codemirror_mode": {
    "name": "ipython",
    "version": 3
   },
   "file_extension": ".py",
   "mimetype": "text/x-python",
   "name": "python",
   "nbconvert_exporter": "python",
   "pygments_lexer": "ipython3",
   "version": "3.8.8"
  }
 },
 "nbformat": 4,
 "nbformat_minor": 2
}
