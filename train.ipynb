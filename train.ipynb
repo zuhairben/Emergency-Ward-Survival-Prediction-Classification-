{
 "cells": [
  {
   "cell_type": "code",
   "execution_count": 2,
   "metadata": {},
   "outputs": [],
   "source": [
    "#import the necessary libraries\n",
    "import pandas as pd   \n",
    "from matplotlib import pyplot\n",
    "import numpy as np\n",
    "import time\n",
    "\n",
    "\n",
    "from sklearn.tree import DecisionTreeClassifier\n",
    "from sklearn.neighbors import KNeighborsClassifier\n",
    "\n",
    "from sklearn.model_selection import train_test_split, RepeatedKFold, GridSearchCV, cross_val_score\n",
    "from sklearn.metrics import roc_curve, roc_auc_score\n",
    "from sklearn.preprocessing import MinMaxScaler\n",
    "from sklearn.preprocessing import OneHotEncoder, LabelEncoder\n",
    "from sklearn import feature_selection\n",
    "from sklearn import model_selection\n",
    "from sklearn import metrics\n"
   ]
  },
  {
   "cell_type": "code",
   "execution_count": 3,
   "metadata": {},
   "outputs": [],
   "source": [
    "df = pd.read_csv('train.csv')#reading the csv file train.csv"
   ]
  },
  {
   "cell_type": "code",
   "execution_count": 4,
   "metadata": {},
   "outputs": [
    {
     "name": "stdout",
     "output_type": "stream",
     "text": [
      "<class 'pandas.core.frame.DataFrame'>\n",
      "RangeIndex: 50000 entries, 0 to 49999\n",
      "Data columns (total 58 columns):\n",
      " #   Column                         Non-Null Count  Dtype  \n",
      "---  ------                         --------------  -----  \n",
      " 0   RecordID                       50000 non-null  int64  \n",
      " 1   hospital_id                    50000 non-null  int64  \n",
      " 2   icu_id                         50000 non-null  int64  \n",
      " 3   ethnicity                      49424 non-null  object \n",
      " 4   gender                         49996 non-null  object \n",
      " 5   icu_admit_source               49953 non-null  object \n",
      " 6   icu_stay_type                  50000 non-null  object \n",
      " 7   icu_type                       50000 non-null  object \n",
      " 8   apache_3j_bodysystem           49724 non-null  object \n",
      " 9   apache_2_bodysystem            49724 non-null  object \n",
      " 10  age                            48199 non-null  float64\n",
      " 11  elective_surgery               50000 non-null  int64  \n",
      " 12  pre_icu_los_days               50000 non-null  float64\n",
      " 13  apache_2_diagnosis             49724 non-null  float64\n",
      " 14  apache_3j_diagnosis            49936 non-null  float64\n",
      " 15  apache_post_operative          50000 non-null  int64  \n",
      " 16  gcs_eyes_apache                49595 non-null  float64\n",
      " 17  gcs_motor_apache               49595 non-null  float64\n",
      " 18  gcs_unable_apache              49958 non-null  float64\n",
      " 19  gcs_verbal_apache              49595 non-null  float64\n",
      " 20  heart_rate_apache              49998 non-null  float64\n",
      " 21  intubated_apache               50000 non-null  int64  \n",
      " 22  resprate_apache                49938 non-null  float64\n",
      " 23  temp_apache                    48751 non-null  float64\n",
      " 24  ventilated_apache              50000 non-null  int64  \n",
      " 25  d1_diasbp_min                  50000 non-null  int64  \n",
      " 26  d1_diasbp_noninvasive_min      50000 non-null  int64  \n",
      " 27  d1_heartrate_max               50000 non-null  int64  \n",
      " 28  d1_mbp_min                     50000 non-null  int64  \n",
      " 29  d1_mbp_noninvasive_min         49905 non-null  float64\n",
      " 30  d1_resprate_max                49987 non-null  float64\n",
      " 31  d1_spo2_min                    49959 non-null  float64\n",
      " 32  d1_sysbp_min                   50000 non-null  int64  \n",
      " 33  d1_sysbp_noninvasive_min       50000 non-null  float64\n",
      " 34  d1_temp_min                    49214 non-null  float64\n",
      " 35  h1_diasbp_min                  49999 non-null  float64\n",
      " 36  h1_diasbp_noninvasive_min      49984 non-null  float64\n",
      " 37  h1_heartrate_max               49966 non-null  float64\n",
      " 38  h1_heartrate_min               49966 non-null  float64\n",
      " 39  h1_mbp_max                     49651 non-null  float64\n",
      " 40  h1_mbp_min                     49651 non-null  float64\n",
      " 41  h1_mbp_noninvasive_max         49266 non-null  float64\n",
      " 42  h1_mbp_noninvasive_min         49266 non-null  float64\n",
      " 43  h1_resprate_max                49374 non-null  float64\n",
      " 44  h1_resprate_min                49374 non-null  float64\n",
      " 45  h1_spo2_max                    49482 non-null  float64\n",
      " 46  h1_spo2_min                    49482 non-null  float64\n",
      " 47  h1_sysbp_max                   50000 non-null  int64  \n",
      " 48  h1_sysbp_min                   50000 non-null  int64  \n",
      " 49  h1_sysbp_noninvasive_max       49985 non-null  float64\n",
      " 50  h1_sysbp_noninvasive_min       49985 non-null  float64\n",
      " 51  d1_glucose_max                 47714 non-null  float64\n",
      " 52  d1_potassium_max               45738 non-null  float64\n",
      " 53  apache_4a_hospital_death_prob  46307 non-null  float64\n",
      " 54  apache_4a_icu_death_prob       46307 non-null  float64\n",
      " 55  immunosuppression              50000 non-null  int64  \n",
      " 56  solid_tumor_with_metastasis    50000 non-null  int64  \n",
      " 57  hospital_death                 50000 non-null  int64  \n",
      "dtypes: float64(34), int64(17), object(7)\n",
      "memory usage: 22.1+ MB\n"
     ]
    }
   ],
   "source": [
    "df.info()#this will give me the information of our table the datatypes the non null count as well"
   ]
  },
  {
   "cell_type": "code",
   "execution_count": 5,
   "metadata": {},
   "outputs": [
    {
     "data": {
      "text/html": [
       "<div>\n",
       "<style scoped>\n",
       "    .dataframe tbody tr th:only-of-type {\n",
       "        vertical-align: middle;\n",
       "    }\n",
       "\n",
       "    .dataframe tbody tr th {\n",
       "        vertical-align: top;\n",
       "    }\n",
       "\n",
       "    .dataframe thead th {\n",
       "        text-align: right;\n",
       "    }\n",
       "</style>\n",
       "<table border=\"1\" class=\"dataframe\">\n",
       "  <thead>\n",
       "    <tr style=\"text-align: right;\">\n",
       "      <th></th>\n",
       "      <th>RecordID</th>\n",
       "      <th>hospital_id</th>\n",
       "      <th>icu_id</th>\n",
       "      <th>ethnicity</th>\n",
       "      <th>gender</th>\n",
       "      <th>icu_admit_source</th>\n",
       "      <th>icu_stay_type</th>\n",
       "      <th>icu_type</th>\n",
       "      <th>apache_3j_bodysystem</th>\n",
       "      <th>apache_2_bodysystem</th>\n",
       "      <th>...</th>\n",
       "      <th>h1_sysbp_min</th>\n",
       "      <th>h1_sysbp_noninvasive_max</th>\n",
       "      <th>h1_sysbp_noninvasive_min</th>\n",
       "      <th>d1_glucose_max</th>\n",
       "      <th>d1_potassium_max</th>\n",
       "      <th>apache_4a_hospital_death_prob</th>\n",
       "      <th>apache_4a_icu_death_prob</th>\n",
       "      <th>immunosuppression</th>\n",
       "      <th>solid_tumor_with_metastasis</th>\n",
       "      <th>hospital_death</th>\n",
       "    </tr>\n",
       "  </thead>\n",
       "  <tbody>\n",
       "    <tr>\n",
       "      <th>0</th>\n",
       "      <td>1</td>\n",
       "      <td>126</td>\n",
       "      <td>1931</td>\n",
       "      <td>Caucasian</td>\n",
       "      <td>M</td>\n",
       "      <td>Floor</td>\n",
       "      <td>transfer</td>\n",
       "      <td>Med-Surg ICU</td>\n",
       "      <td>Metabolic</td>\n",
       "      <td>Metabolic</td>\n",
       "      <td>...</td>\n",
       "      <td>86</td>\n",
       "      <td>93.0</td>\n",
       "      <td>86.0</td>\n",
       "      <td>NaN</td>\n",
       "      <td>NaN</td>\n",
       "      <td>0.01</td>\n",
       "      <td>0.00</td>\n",
       "      <td>0</td>\n",
       "      <td>0</td>\n",
       "      <td>0</td>\n",
       "    </tr>\n",
       "    <tr>\n",
       "      <th>1</th>\n",
       "      <td>2</td>\n",
       "      <td>112</td>\n",
       "      <td>1544</td>\n",
       "      <td>African American</td>\n",
       "      <td>M</td>\n",
       "      <td>Accident &amp; Emergency</td>\n",
       "      <td>admit</td>\n",
       "      <td>Med-Surg ICU</td>\n",
       "      <td>Cardiovascular</td>\n",
       "      <td>Cardiovascular</td>\n",
       "      <td>...</td>\n",
       "      <td>95</td>\n",
       "      <td>95.0</td>\n",
       "      <td>95.0</td>\n",
       "      <td>333.0</td>\n",
       "      <td>3.7</td>\n",
       "      <td>NaN</td>\n",
       "      <td>NaN</td>\n",
       "      <td>0</td>\n",
       "      <td>0</td>\n",
       "      <td>0</td>\n",
       "    </tr>\n",
       "    <tr>\n",
       "      <th>2</th>\n",
       "      <td>3</td>\n",
       "      <td>153</td>\n",
       "      <td>1517</td>\n",
       "      <td>Caucasian</td>\n",
       "      <td>M</td>\n",
       "      <td>Floor</td>\n",
       "      <td>admit</td>\n",
       "      <td>MICU</td>\n",
       "      <td>Respiratory</td>\n",
       "      <td>Respiratory</td>\n",
       "      <td>...</td>\n",
       "      <td>162</td>\n",
       "      <td>174.0</td>\n",
       "      <td>162.0</td>\n",
       "      <td>160.0</td>\n",
       "      <td>4.2</td>\n",
       "      <td>0.38</td>\n",
       "      <td>0.15</td>\n",
       "      <td>0</td>\n",
       "      <td>0</td>\n",
       "      <td>0</td>\n",
       "    </tr>\n",
       "    <tr>\n",
       "      <th>3</th>\n",
       "      <td>4</td>\n",
       "      <td>109</td>\n",
       "      <td>1811</td>\n",
       "      <td>Caucasian</td>\n",
       "      <td>M</td>\n",
       "      <td>Accident &amp; Emergency</td>\n",
       "      <td>admit</td>\n",
       "      <td>Med-Surg ICU</td>\n",
       "      <td>Neurological</td>\n",
       "      <td>Neurologic</td>\n",
       "      <td>...</td>\n",
       "      <td>140</td>\n",
       "      <td>163.0</td>\n",
       "      <td>140.0</td>\n",
       "      <td>258.0</td>\n",
       "      <td>3.8</td>\n",
       "      <td>0.12</td>\n",
       "      <td>0.06</td>\n",
       "      <td>0</td>\n",
       "      <td>0</td>\n",
       "      <td>0</td>\n",
       "    </tr>\n",
       "    <tr>\n",
       "      <th>4</th>\n",
       "      <td>5</td>\n",
       "      <td>287</td>\n",
       "      <td>1845</td>\n",
       "      <td>Caucasian</td>\n",
       "      <td>F</td>\n",
       "      <td>Accident &amp; Emergency</td>\n",
       "      <td>admit</td>\n",
       "      <td>CSICU</td>\n",
       "      <td>Cardiovascular</td>\n",
       "      <td>Cardiovascular</td>\n",
       "      <td>...</td>\n",
       "      <td>119</td>\n",
       "      <td>119.0</td>\n",
       "      <td>119.0</td>\n",
       "      <td>110.0</td>\n",
       "      <td>3.9</td>\n",
       "      <td>0.15</td>\n",
       "      <td>0.07</td>\n",
       "      <td>0</td>\n",
       "      <td>0</td>\n",
       "      <td>0</td>\n",
       "    </tr>\n",
       "  </tbody>\n",
       "</table>\n",
       "<p>5 rows × 58 columns</p>\n",
       "</div>"
      ],
      "text/plain": [
       "   RecordID  hospital_id  icu_id         ethnicity gender  \\\n",
       "0         1          126    1931         Caucasian      M   \n",
       "1         2          112    1544  African American      M   \n",
       "2         3          153    1517         Caucasian      M   \n",
       "3         4          109    1811         Caucasian      M   \n",
       "4         5          287    1845         Caucasian      F   \n",
       "\n",
       "       icu_admit_source icu_stay_type      icu_type apache_3j_bodysystem  \\\n",
       "0                 Floor      transfer  Med-Surg ICU            Metabolic   \n",
       "1  Accident & Emergency         admit  Med-Surg ICU       Cardiovascular   \n",
       "2                 Floor         admit          MICU          Respiratory   \n",
       "3  Accident & Emergency         admit  Med-Surg ICU         Neurological   \n",
       "4  Accident & Emergency         admit         CSICU       Cardiovascular   \n",
       "\n",
       "  apache_2_bodysystem  ...  h1_sysbp_min  h1_sysbp_noninvasive_max  \\\n",
       "0           Metabolic  ...            86                      93.0   \n",
       "1      Cardiovascular  ...            95                      95.0   \n",
       "2         Respiratory  ...           162                     174.0   \n",
       "3          Neurologic  ...           140                     163.0   \n",
       "4      Cardiovascular  ...           119                     119.0   \n",
       "\n",
       "   h1_sysbp_noninvasive_min  d1_glucose_max  d1_potassium_max  \\\n",
       "0                      86.0             NaN               NaN   \n",
       "1                      95.0           333.0               3.7   \n",
       "2                     162.0           160.0               4.2   \n",
       "3                     140.0           258.0               3.8   \n",
       "4                     119.0           110.0               3.9   \n",
       "\n",
       "   apache_4a_hospital_death_prob  apache_4a_icu_death_prob  immunosuppression  \\\n",
       "0                           0.01                      0.00                  0   \n",
       "1                            NaN                       NaN                  0   \n",
       "2                           0.38                      0.15                  0   \n",
       "3                           0.12                      0.06                  0   \n",
       "4                           0.15                      0.07                  0   \n",
       "\n",
       "   solid_tumor_with_metastasis  hospital_death  \n",
       "0                            0               0  \n",
       "1                            0               0  \n",
       "2                            0               0  \n",
       "3                            0               0  \n",
       "4                            0               0  \n",
       "\n",
       "[5 rows x 58 columns]"
      ]
     },
     "execution_count": 5,
     "metadata": {},
     "output_type": "execute_result"
    }
   ],
   "source": [
    "df.head()#prints the first 5 entries by default will give 5"
   ]
  },
  {
   "cell_type": "code",
   "execution_count": 6,
   "metadata": {},
   "outputs": [
    {
     "data": {
      "text/html": [
       "<div>\n",
       "<style scoped>\n",
       "    .dataframe tbody tr th:only-of-type {\n",
       "        vertical-align: middle;\n",
       "    }\n",
       "\n",
       "    .dataframe tbody tr th {\n",
       "        vertical-align: top;\n",
       "    }\n",
       "\n",
       "    .dataframe thead th {\n",
       "        text-align: right;\n",
       "    }\n",
       "</style>\n",
       "<table border=\"1\" class=\"dataframe\">\n",
       "  <thead>\n",
       "    <tr style=\"text-align: right;\">\n",
       "      <th></th>\n",
       "      <th>RecordID</th>\n",
       "      <th>hospital_id</th>\n",
       "      <th>icu_id</th>\n",
       "      <th>ethnicity</th>\n",
       "      <th>gender</th>\n",
       "      <th>icu_admit_source</th>\n",
       "      <th>icu_stay_type</th>\n",
       "      <th>icu_type</th>\n",
       "      <th>apache_3j_bodysystem</th>\n",
       "      <th>apache_2_bodysystem</th>\n",
       "      <th>...</th>\n",
       "      <th>h1_sysbp_min</th>\n",
       "      <th>h1_sysbp_noninvasive_max</th>\n",
       "      <th>h1_sysbp_noninvasive_min</th>\n",
       "      <th>d1_glucose_max</th>\n",
       "      <th>d1_potassium_max</th>\n",
       "      <th>apache_4a_hospital_death_prob</th>\n",
       "      <th>apache_4a_icu_death_prob</th>\n",
       "      <th>immunosuppression</th>\n",
       "      <th>solid_tumor_with_metastasis</th>\n",
       "      <th>hospital_death</th>\n",
       "    </tr>\n",
       "  </thead>\n",
       "  <tbody>\n",
       "    <tr>\n",
       "      <th>4810</th>\n",
       "      <td>4811</td>\n",
       "      <td>237</td>\n",
       "      <td>1905</td>\n",
       "      <td>Caucasian</td>\n",
       "      <td>M</td>\n",
       "      <td>Operating Room / Recovery</td>\n",
       "      <td>admit</td>\n",
       "      <td>Med-Surg ICU</td>\n",
       "      <td>Gastrointestinal</td>\n",
       "      <td>Gastrointestinal</td>\n",
       "      <td>...</td>\n",
       "      <td>162</td>\n",
       "      <td>187.0</td>\n",
       "      <td>162.0</td>\n",
       "      <td>162.0</td>\n",
       "      <td>4.2</td>\n",
       "      <td>0.01</td>\n",
       "      <td>0.01</td>\n",
       "      <td>0</td>\n",
       "      <td>0</td>\n",
       "      <td>0</td>\n",
       "    </tr>\n",
       "  </tbody>\n",
       "</table>\n",
       "<p>1 rows × 58 columns</p>\n",
       "</div>"
      ],
      "text/plain": [
       "      RecordID  hospital_id  icu_id  ethnicity gender  \\\n",
       "4810      4811          237    1905  Caucasian      M   \n",
       "\n",
       "               icu_admit_source icu_stay_type      icu_type  \\\n",
       "4810  Operating Room / Recovery         admit  Med-Surg ICU   \n",
       "\n",
       "     apache_3j_bodysystem apache_2_bodysystem  ...  h1_sysbp_min  \\\n",
       "4810     Gastrointestinal    Gastrointestinal  ...           162   \n",
       "\n",
       "      h1_sysbp_noninvasive_max  h1_sysbp_noninvasive_min  d1_glucose_max  \\\n",
       "4810                     187.0                     162.0           162.0   \n",
       "\n",
       "      d1_potassium_max  apache_4a_hospital_death_prob  \\\n",
       "4810               4.2                           0.01   \n",
       "\n",
       "      apache_4a_icu_death_prob  immunosuppression  \\\n",
       "4810                      0.01                  0   \n",
       "\n",
       "      solid_tumor_with_metastasis  hospital_death  \n",
       "4810                            0               0  \n",
       "\n",
       "[1 rows x 58 columns]"
      ]
     },
     "execution_count": 6,
     "metadata": {},
     "output_type": "execute_result"
    }
   ],
   "source": [
    "df.sample()#this will give any random numbered samples by default will give 1 "
   ]
  },
  {
   "cell_type": "code",
   "execution_count": 7,
   "metadata": {},
   "outputs": [
    {
     "data": {
      "text/plain": [
       "RecordID                            0\n",
       "hospital_id                         0\n",
       "icu_id                              0\n",
       "ethnicity                         576\n",
       "gender                              4\n",
       "icu_admit_source                   47\n",
       "icu_stay_type                       0\n",
       "icu_type                            0\n",
       "apache_3j_bodysystem              276\n",
       "apache_2_bodysystem               276\n",
       "age                              1801\n",
       "elective_surgery                    0\n",
       "pre_icu_los_days                    0\n",
       "apache_2_diagnosis                276\n",
       "apache_3j_diagnosis                64\n",
       "apache_post_operative               0\n",
       "gcs_eyes_apache                   405\n",
       "gcs_motor_apache                  405\n",
       "gcs_unable_apache                  42\n",
       "gcs_verbal_apache                 405\n",
       "heart_rate_apache                   2\n",
       "intubated_apache                    0\n",
       "resprate_apache                    62\n",
       "temp_apache                      1249\n",
       "ventilated_apache                   0\n",
       "d1_diasbp_min                       0\n",
       "d1_diasbp_noninvasive_min           0\n",
       "d1_heartrate_max                    0\n",
       "d1_mbp_min                          0\n",
       "d1_mbp_noninvasive_min             95\n",
       "d1_resprate_max                    13\n",
       "d1_spo2_min                        41\n",
       "d1_sysbp_min                        0\n",
       "d1_sysbp_noninvasive_min            0\n",
       "d1_temp_min                       786\n",
       "h1_diasbp_min                       1\n",
       "h1_diasbp_noninvasive_min          16\n",
       "h1_heartrate_max                   34\n",
       "h1_heartrate_min                   34\n",
       "h1_mbp_max                        349\n",
       "h1_mbp_min                        349\n",
       "h1_mbp_noninvasive_max            734\n",
       "h1_mbp_noninvasive_min            734\n",
       "h1_resprate_max                   626\n",
       "h1_resprate_min                   626\n",
       "h1_spo2_max                       518\n",
       "h1_spo2_min                       518\n",
       "h1_sysbp_max                        0\n",
       "h1_sysbp_min                        0\n",
       "h1_sysbp_noninvasive_max           15\n",
       "h1_sysbp_noninvasive_min           15\n",
       "d1_glucose_max                   2286\n",
       "d1_potassium_max                 4262\n",
       "apache_4a_hospital_death_prob    3693\n",
       "apache_4a_icu_death_prob         3693\n",
       "immunosuppression                   0\n",
       "solid_tumor_with_metastasis         0\n",
       "hospital_death                      0\n",
       "dtype: int64"
      ]
     },
     "execution_count": 7,
     "metadata": {},
     "output_type": "execute_result"
    }
   ],
   "source": [
    "df.isnull().sum()#this will give us the total null values in each column"
   ]
  },
  {
   "cell_type": "code",
   "execution_count": 8,
   "metadata": {},
   "outputs": [
    {
     "data": {
      "text/plain": [
       "RecordID                           int64\n",
       "hospital_id                        int64\n",
       "icu_id                             int64\n",
       "ethnicity                         object\n",
       "gender                            object\n",
       "icu_admit_source                  object\n",
       "icu_stay_type                     object\n",
       "icu_type                          object\n",
       "apache_3j_bodysystem              object\n",
       "apache_2_bodysystem               object\n",
       "age                              float64\n",
       "elective_surgery                   int64\n",
       "pre_icu_los_days                 float64\n",
       "apache_2_diagnosis               float64\n",
       "apache_3j_diagnosis              float64\n",
       "apache_post_operative              int64\n",
       "gcs_eyes_apache                  float64\n",
       "gcs_motor_apache                 float64\n",
       "gcs_unable_apache                float64\n",
       "gcs_verbal_apache                float64\n",
       "heart_rate_apache                float64\n",
       "intubated_apache                   int64\n",
       "resprate_apache                  float64\n",
       "temp_apache                      float64\n",
       "ventilated_apache                  int64\n",
       "d1_diasbp_min                      int64\n",
       "d1_diasbp_noninvasive_min          int64\n",
       "d1_heartrate_max                   int64\n",
       "d1_mbp_min                         int64\n",
       "d1_mbp_noninvasive_min           float64\n",
       "d1_resprate_max                  float64\n",
       "d1_spo2_min                      float64\n",
       "d1_sysbp_min                       int64\n",
       "d1_sysbp_noninvasive_min         float64\n",
       "d1_temp_min                      float64\n",
       "h1_diasbp_min                    float64\n",
       "h1_diasbp_noninvasive_min        float64\n",
       "h1_heartrate_max                 float64\n",
       "h1_heartrate_min                 float64\n",
       "h1_mbp_max                       float64\n",
       "h1_mbp_min                       float64\n",
       "h1_mbp_noninvasive_max           float64\n",
       "h1_mbp_noninvasive_min           float64\n",
       "h1_resprate_max                  float64\n",
       "h1_resprate_min                  float64\n",
       "h1_spo2_max                      float64\n",
       "h1_spo2_min                      float64\n",
       "h1_sysbp_max                       int64\n",
       "h1_sysbp_min                       int64\n",
       "h1_sysbp_noninvasive_max         float64\n",
       "h1_sysbp_noninvasive_min         float64\n",
       "d1_glucose_max                   float64\n",
       "d1_potassium_max                 float64\n",
       "apache_4a_hospital_death_prob    float64\n",
       "apache_4a_icu_death_prob         float64\n",
       "immunosuppression                  int64\n",
       "solid_tumor_with_metastasis        int64\n",
       "hospital_death                     int64\n",
       "dtype: object"
      ]
     },
     "execution_count": 8,
     "metadata": {},
     "output_type": "execute_result"
    }
   ],
   "source": [
    "df.dtypes#the data types of each column"
   ]
  },
  {
   "cell_type": "code",
   "execution_count": 9,
   "metadata": {},
   "outputs": [
    {
     "name": "stderr",
     "output_type": "stream",
     "text": [
      "C:\\Users\\Zuhair Shah\\AppData\\Local\\Temp\\ipykernel_23216\\820435583.py:1: FutureWarning: The default value of numeric_only in DataFrame.mean is deprecated. In a future version, it will default to False. In addition, specifying 'numeric_only=None' is deprecated. Select only valid columns or specify the value of numeric_only to silence this warning.\n",
      "  df.fillna(df.mean(), inplace=True)\n"
     ]
    }
   ],
   "source": [
    "df.fillna(df.mean(), inplace=True)"
   ]
  },
  {
   "cell_type": "code",
   "execution_count": 10,
   "metadata": {},
   "outputs": [
    {
     "data": {
      "text/plain": [
       "RecordID                                     int64\n",
       "hospital_id                                  int64\n",
       "icu_id                                       int64\n",
       "age                                        float64\n",
       "elective_surgery                             int64\n",
       "                                            ...   \n",
       "apache_2_bodysystem_Renal/Genitourinary      uint8\n",
       "apache_2_bodysystem_Respiratory              uint8\n",
       "apache_2_bodysystem_Trauma                   uint8\n",
       "apache_2_bodysystem_Undefined Diagnoses      uint8\n",
       "apache_2_bodysystem_Undefined diagnoses      uint8\n",
       "Length: 96, dtype: object"
      ]
     },
     "execution_count": 10,
     "metadata": {},
     "output_type": "execute_result"
    }
   ],
   "source": [
    "df_onehot = pd.get_dummies(df)\n",
    "df_onehot.dtypes"
   ]
  },
  {
   "cell_type": "code",
   "execution_count": 11,
   "metadata": {},
   "outputs": [],
   "source": [
    "X = df_onehot.loc[:, df_onehot.columns != 'hospital_death']\n",
    "y = df_onehot[['hospital_death']]"
   ]
  },
  {
   "cell_type": "code",
   "execution_count": 12,
   "metadata": {},
   "outputs": [
    {
     "name": "stdout",
     "output_type": "stream",
     "text": [
      "0    45662\n",
      "1     4338\n",
      "Name: hospital_death, dtype: int64\n"
     ]
    }
   ],
   "source": [
    "print(y['hospital_death'].value_counts())"
   ]
  },
  {
   "cell_type": "code",
   "execution_count": 13,
   "metadata": {},
   "outputs": [],
   "source": [
    "trainX, testX, trainy, testy = train_test_split(X, y, test_size=0.2, random_state=2)"
   ]
  },
  {
   "cell_type": "code",
   "execution_count": 14,
   "metadata": {},
   "outputs": [],
   "source": [
    "dt_5_2 = DecisionTreeClassifier(max_depth=5)  \n",
    "dt_5_2.fit(trainX,trainy)\n",
    "#fit_model(dt_5_2, \"Depth 5 Split 2\") \n",
    "md_probs = dt_5_2.predict_proba(testX)"
   ]
  },
  {
   "cell_type": "code",
   "execution_count": 15,
   "metadata": {},
   "outputs": [
    {
     "data": {
      "text/plain": [
       "array([[0.65569918, 0.34430082],\n",
       "       [0.94454303, 0.05545697],\n",
       "       [0.99194631, 0.00805369],\n",
       "       ...,\n",
       "       [0.94454303, 0.05545697],\n",
       "       [0.9720516 , 0.0279484 ],\n",
       "       [0.76451613, 0.23548387]])"
      ]
     },
     "execution_count": 15,
     "metadata": {},
     "output_type": "execute_result"
    }
   ],
   "source": [
    "md_probs"
   ]
  },
  {
   "cell_type": "code",
   "execution_count": 16,
   "metadata": {},
   "outputs": [
    {
     "data": {
      "text/plain": [
       "array([0.34430082, 0.05545697, 0.00805369, ..., 0.05545697, 0.0279484 ,\n",
       "       0.23548387])"
      ]
     },
     "execution_count": 16,
     "metadata": {},
     "output_type": "execute_result"
    }
   ],
   "source": [
    "md_probs = md_probs[:,1]\n",
    "md_probs"
   ]
  },
  {
   "cell_type": "code",
   "execution_count": 17,
   "metadata": {},
   "outputs": [
    {
     "data": {
      "text/plain": [
       "0.8566472311486875"
      ]
     },
     "execution_count": 17,
     "metadata": {},
     "output_type": "execute_result"
    }
   ],
   "source": [
    "md_auc = roc_auc_score(testy, md_probs)\n",
    "md_auc"
   ]
  },
  {
   "cell_type": "code",
   "execution_count": 18,
   "metadata": {},
   "outputs": [],
   "source": [
    "def fit_model(model, model_name):\n",
    "    model.fit(trainX,trainy)\n",
    "    md_probs = model.predict_proba(testX)\n",
    "    md_probs = md_probs[:,1]\n",
    "    md_auc = roc_auc_score(testy, md_probs)\n",
    "    print(model_name, \" : \", md_auc)\n",
    "    md_fpr, md_tpr, _ = roc_curve(testy, md_probs)\n",
    "    pyplot.plot(md_fpr, md_tpr, marker='.', label=model_name)"
   ]
  },
  {
   "cell_type": "code",
   "execution_count": 19,
   "metadata": {},
   "outputs": [
    {
     "name": "stdout",
     "output_type": "stream",
     "text": [
      "Depth 5 Split 2  :  0.8476005387040099\n",
      "Depth 7 Split 2  :  0.8347832933600376\n",
      "Depth 5 Split 5  :  0.8475826921569186\n",
      "Depth 7 Split 5  :  0.8325442059806702\n",
      "Depth 3 Split 2  :  0.8363114700788299\n",
      "Depth 3 Split 5  :  0.8363114700788299\n"
     ]
    },
    {
     "data": {
      "image/png": "[encoded data removed]",
      "text/plain": [
       "<Figure size 640x480 with 1 Axes>"
      ]
     },
     "metadata": {},
     "output_type": "display_data"
    }
   ],
   "source": [
    "trainX, testX, trainy, testy = train_test_split(X, y, test_size=0.3)#, random_state=2)\n",
    "dt_5_2 = DecisionTreeClassifier(max_depth=5)  \n",
    "fit_model(dt_5_2, \"Depth 5 Split 2\") \n",
    "\n",
    "dt_7_2 = DecisionTreeClassifier(max_depth=7)  \n",
    "fit_model(dt_7_2, \"Depth 7 Split 2\") \n",
    "\n",
    "dt_5_5 = DecisionTreeClassifier(max_depth=5, min_samples_split=5)  \n",
    "fit_model(dt_5_5, \"Depth 5 Split 5\") \n",
    "\n",
    "dt_7_5 = DecisionTreeClassifier(max_depth=7, min_samples_split=5)  \n",
    "fit_model(dt_7_5, \"Depth 7 Split 5\") \n",
    "\n",
    "dt_3_2 = DecisionTreeClassifier(max_depth=3, min_samples_split=2)  \n",
    "fit_model(dt_3_2, \"Depth 3 Split 2\") \n",
    "\n",
    "dt_3_5 = DecisionTreeClassifier(max_depth=3, min_samples_split=5)  \n",
    "fit_model(dt_3_5, \"Depth 3 Split 5\") \n",
    "\n",
    "pyplot.xlabel('False Positive Rate')\n",
    "pyplot.ylabel('True Positive Rate')\n",
    "# show the legend\n",
    "pyplot.legend()\n",
    "# show the plot\n",
    "pyplot.show()"
   ]
  },
  {
   "cell_type": "code",
   "execution_count": 20,
   "metadata": {},
   "outputs": [
    {
     "name": "stdout",
     "output_type": "stream",
     "text": [
      "Fitting 10 folds for each of 20 candidates, totalling 200 fits\n",
      "DecisionTreeClassifier(max_depth=5)\n",
      "0.8445999005953613\n",
      "{'max_depth': 5, 'min_samples_split': 2}\n",
      "2min 4s ± 0 ns per loop (mean ± std. dev. of 1 run, 1 loop each)\n"
     ]
    }
   ],
   "source": [
    "%%timeit -n1 -r1\n",
    "parameters = {     \n",
    "                'min_samples_split' : [2,5,8, 10],#,400],\n",
    "                'max_depth'    : [3,5,7,9,11],\n",
    "                \n",
    "                }\n",
    "dt = DecisionTreeClassifier()\n",
    "cv = RepeatedKFold(n_splits=10, n_repeats=1)#, random_state=1)\n",
    "grid_search = GridSearchCV(dt, parameters, cv=cv, n_jobs=-1, scoring='roc_auc',verbose=2)#, refit=False)\n",
    "grid_search.fit(X, y)\n",
    "print(grid_search.best_estimator_)\n",
    "print(grid_search.best_score_)\n",
    "print(grid_search.best_params_)"
   ]
  },
  {
   "cell_type": "code",
   "execution_count": 21,
   "metadata": {},
   "outputs": [],
   "source": [
    "df1 = pd.read_csv('train.csv')"
   ]
  },
  {
   "cell_type": "code",
   "execution_count": 22,
   "metadata": {},
   "outputs": [
    {
     "name": "stderr",
     "output_type": "stream",
     "text": [
      "C:\\Users\\Zuhair Shah\\AppData\\Local\\Temp\\ipykernel_23216\\3865222721.py:1: FutureWarning: The default value of numeric_only in DataFrame.mean is deprecated. In a future version, it will default to False. In addition, specifying 'numeric_only=None' is deprecated. Select only valid columns or specify the value of numeric_only to silence this warning.\n",
      "  df1.fillna(df1.mean(), inplace=True)\n"
     ]
    }
   ],
   "source": [
    "df1.fillna(df1.mean(), inplace=True)"
   ]
  },
  {
   "cell_type": "code",
   "execution_count": 24,
   "metadata": {},
   "outputs": [
    {
     "data": {
      "text/plain": [
       "RecordID                                     int64\n",
       "hospital_id                                  int64\n",
       "icu_id                                       int64\n",
       "age                                        float64\n",
       "elective_surgery                             int64\n",
       "                                            ...   \n",
       "apache_2_bodysystem_Renal/Genitourinary      uint8\n",
       "apache_2_bodysystem_Respiratory              uint8\n",
       "apache_2_bodysystem_Trauma                   uint8\n",
       "apache_2_bodysystem_Undefined Diagnoses      uint8\n",
       "apache_2_bodysystem_Undefined diagnoses      uint8\n",
       "Length: 96, dtype: object"
      ]
     },
     "execution_count": 24,
     "metadata": {},
     "output_type": "execute_result"
    }
   ],
   "source": [
    "df_onehot1 = pd.get_dummies(df1)\n",
    "df_onehot1.dtypes"
   ]
  },
  {
   "cell_type": "code",
   "execution_count": 25,
   "metadata": {},
   "outputs": [],
   "source": [
    "X = df_onehot1.loc[:, df_onehot1.columns != 'hospital_death']\n",
    "y = df_onehot1[['hospital_death']]"
   ]
  },
  {
   "cell_type": "code",
   "execution_count": 26,
   "metadata": {},
   "outputs": [
    {
     "name": "stdout",
     "output_type": "stream",
     "text": [
      "0    45662\n",
      "1     4338\n",
      "Name: hospital_death, dtype: int64\n"
     ]
    }
   ],
   "source": [
    "print(y['hospital_death'].value_counts())"
   ]
  },
  {
   "cell_type": "code",
   "execution_count": 34,
   "metadata": {},
   "outputs": [],
   "source": [
    "dt_train = DecisionTreeClassifier(max_depth=5)  \n",
    "dt_train.fit(X,y)\n",
    "#fit_model(dt_5_2, \"Depth 5 Split 2\") \n",
    "md_prob = dt_train.predict_proba(X)"
   ]
  },
  {
   "cell_type": "code",
   "execution_count": 35,
   "metadata": {},
   "outputs": [
    {
     "data": {
      "text/plain": [
       "array([[0.98573775, 0.01426225],\n",
       "       [0.94766051, 0.05233949],\n",
       "       [0.75942645, 0.24057355],\n",
       "       ...,\n",
       "       [0.94766051, 0.05233949],\n",
       "       [0.98573775, 0.01426225],\n",
       "       [0.98573775, 0.01426225]])"
      ]
     },
     "execution_count": 35,
     "metadata": {},
     "output_type": "execute_result"
    }
   ],
   "source": [
    "md_prob"
   ]
  },
  {
   "cell_type": "code",
   "execution_count": 36,
   "metadata": {},
   "outputs": [
    {
     "data": {
      "text/plain": [
       "array([0.01426225, 0.05233949, 0.24057355, ..., 0.05233949, 0.01426225,\n",
       "       0.01426225])"
      ]
     },
     "execution_count": 36,
     "metadata": {},
     "output_type": "execute_result"
    }
   ],
   "source": [
    "md_prob = md_prob[:,1]\n",
    "md_prob"
   ]
  },
  {
   "cell_type": "code",
   "execution_count": 37,
   "metadata": {},
   "outputs": [
    {
     "data": {
      "text/plain": [
       "0.8480486158452674"
      ]
     },
     "execution_count": 37,
     "metadata": {},
     "output_type": "execute_result"
    }
   ],
   "source": [
    "md_auc = roc_auc_score(y, md_prob)\n",
    "md_auc"
   ]
  },
  {
   "cell_type": "code",
   "execution_count": null,
   "metadata": {},
   "outputs": [],
   "source": [
    "df2 = pd.read_csv('test.csv')"
   ]
  },
  {
   "cell_type": "code",
   "execution_count": 38,
   "metadata": {},
   "outputs": [],
   "source": [
    "def fit_model(model, model_name):\n",
    "    model.fit(X,y)\n",
    "    md_prob = model.predict_proba(X)\n",
    "    md_prob = md_prob[:,1]\n",
    "    md_auc = roc_auc_score(y, md_prob)\n",
    "    print(model_name, \" : \", md_auc)\n",
    "    md_fpr, md_tpr, _ = roc_curve(y, md_prob)\n",
    "    pyplot.plot(md_fpr, md_tpr, marker='.', label=model_name)"
   ]
  },
  {
   "cell_type": "code",
   "execution_count": null,
   "metadata": {},
   "outputs": [],
   "source": [
    "%%timeit -n1 -r1\n",
    "parameters = {     \n",
    "                'min_samples_split' : [2,5,8, 10],#,400],\n",
    "                'max_depth'    : [3,5,7,9,11],\n",
    "                \n",
    "                }\n",
    "dt = DecisionTreeClassifier()\n",
    "cv = RepeatedKFold(n_splits=10, n_repeats=1)#, random_state=1)\n",
    "grid_search = GridSearchCV(dt, parameters, cv=cv, n_jobs=-1, scoring='roc_auc',verbose=2)#, refit=False)\n",
    "grid_search.fit(X, y)\n",
    "print(grid_search.best_estimator_)\n",
    "print(grid_search.best_score_)\n",
    "print(grid_search.best_params_)"
   ]
  }
 ],
 "metadata": {
  "kernelspec": {
   "display_name": "base",
   "language": "python",
   "name": "python3"
  },
  "language_info": {
   "codemirror_mode": {
    "name": "ipython",
    "version": 3
   },
   "file_extension": ".py",
   "mimetype": "text/x-python",
   "name": "python",
   "nbconvert_exporter": "python",
   "pygments_lexer": "ipython3",
   "version": "3.10.9"
  },
  "orig_nbformat": 4
 },
 "nbformat": 4,
 "nbformat_minor": 2
}
